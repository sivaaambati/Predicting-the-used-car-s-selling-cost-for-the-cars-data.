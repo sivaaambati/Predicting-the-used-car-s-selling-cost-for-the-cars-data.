{
 "cells": [
  {
   "cell_type": "code",
   "execution_count": 448,
   "metadata": {},
   "outputs": [],
   "source": [
    "import os\n",
    "import pandas as pd"
   ]
  },
  {
   "cell_type": "markdown",
   "metadata": {},
   "source": [
    "# Reading the data"
   ]
  },
  {
   "cell_type": "code",
   "execution_count": 449,
   "metadata": {},
   "outputs": [],
   "source": [
    "train = pd.read_csv('TrainData.csv') \n",
    "test = pd.read_csv('TestData.csv' )"
   ]
  },
  {
   "cell_type": "code",
   "execution_count": 450,
   "metadata": {},
   "outputs": [
    {
     "name": "stdout",
     "output_type": "stream",
     "text": [
      "The train has 58857 rows and 20 columns\n",
      "The test has 19594 rows and 19 columns\n"
     ]
    }
   ],
   "source": [
    "print ('The train has {0} rows and {1} columns'.format(train.shape[0],train.shape[1]))\n",
    "print ('The test has {0} rows and {1} columns'.format(test.shape[0],test.shape[1]))"
   ]
  },
  {
   "cell_type": "code",
   "execution_count": 451,
   "metadata": {},
   "outputs": [
    {
     "name": "stdout",
     "output_type": "stream",
     "text": [
      "Index(['VehicleID', 'DataCollectedDate', 'NameOfTheVehicle', 'SellerType',\n",
      "       'OfferType', 'Price', 'VehicleType', 'YearOfVehicleRegistration',\n",
      "       'GearBoxType', 'PowerOfTheEngine', 'ModelOfTheVehicle',\n",
      "       'DistranceTravelled', 'MonthOfVehicleRegistration', 'TypeOfTheFuelUsed',\n",
      "       'BrandOfTheVehicle', 'IsDamageRepaired', 'DateOfAdCreation',\n",
      "       'NumberOfPictures', 'ZipCode', 'DateOfAdLastSeen'],\n",
      "      dtype='object')\n",
      "Index(['VehicleID', 'DataCollectedDate', 'NameOfTheVehicle', 'SellerType',\n",
      "       'OfferType', 'VehicleType', 'YearOfVehicleRegistration', 'GearBoxType',\n",
      "       'PowerOfTheEngine', 'ModelOfTheVehicle', 'DistranceTravelled',\n",
      "       'MonthOfVehicleRegistration', 'TypeOfTheFuelUsed', 'BrandOfTheVehicle',\n",
      "       'IsDamageRepaired', 'DateOfAdCreation', 'NumberOfPictures', 'ZipCode',\n",
      "       'DateOfAdLastSeen'],\n",
      "      dtype='object')\n"
     ]
    }
   ],
   "source": [
    "print(train.columns)\n",
    "print(test.columns)"
   ]
  },
  {
   "cell_type": "code",
   "execution_count": 452,
   "metadata": {},
   "outputs": [],
   "source": [
    "#import pandas_profiling as pp\n",
    "#pp.ProfileReport(test)"
   ]
  },
  {
   "cell_type": "code",
   "execution_count": 453,
   "metadata": {},
   "outputs": [],
   "source": [
    "test_Id = test.VehicleID.copy()"
   ]
  },
  {
   "cell_type": "markdown",
   "metadata": {},
   "source": [
    "# Dropping the unwanted columns "
   ]
  },
  {
   "cell_type": "code",
   "execution_count": 454,
   "metadata": {},
   "outputs": [],
   "source": [
    "# As the Offertype , sellertype and no.of pictures are constant \n",
    "# Vehicle id is not used for prediction"
   ]
  },
  {
   "cell_type": "code",
   "execution_count": 455,
   "metadata": {},
   "outputs": [],
   "source": [
    "train.drop(['VehicleID','OfferType','SellerType','NumberOfPictures'],axis=1,inplace=True)\n",
    "test.drop(['VehicleID','OfferType','SellerType','NumberOfPictures'],axis=1,inplace=True)"
   ]
  },
  {
   "cell_type": "markdown",
   "metadata": {},
   "source": [
    "# Checking the missing values"
   ]
  },
  {
   "cell_type": "code",
   "execution_count": 456,
   "metadata": {
    "scrolled": true
   },
   "outputs": [
    {
     "data": {
      "text/html": [
       "<div>\n",
       "<style scoped>\n",
       "    .dataframe tbody tr th:only-of-type {\n",
       "        vertical-align: middle;\n",
       "    }\n",
       "\n",
       "    .dataframe tbody tr th {\n",
       "        vertical-align: top;\n",
       "    }\n",
       "\n",
       "    .dataframe thead th {\n",
       "        text-align: right;\n",
       "    }\n",
       "</style>\n",
       "<table border=\"1\" class=\"dataframe\">\n",
       "  <thead>\n",
       "    <tr style=\"text-align: right;\">\n",
       "      <th></th>\n",
       "      <th>column_name</th>\n",
       "      <th>missing_count</th>\n",
       "      <th>missing_ratio</th>\n",
       "    </tr>\n",
       "  </thead>\n",
       "  <tbody>\n",
       "    <tr>\n",
       "      <th>12</th>\n",
       "      <td>IsDamageRepaired</td>\n",
       "      <td>6849</td>\n",
       "      <td>0.116367</td>\n",
       "    </tr>\n",
       "    <tr>\n",
       "      <th>10</th>\n",
       "      <td>TypeOfTheFuelUsed</td>\n",
       "      <td>2085</td>\n",
       "      <td>0.035425</td>\n",
       "    </tr>\n",
       "    <tr>\n",
       "      <th>3</th>\n",
       "      <td>VehicleType</td>\n",
       "      <td>1844</td>\n",
       "      <td>0.031330</td>\n",
       "    </tr>\n",
       "    <tr>\n",
       "      <th>5</th>\n",
       "      <td>GearBoxType</td>\n",
       "      <td>1719</td>\n",
       "      <td>0.029206</td>\n",
       "    </tr>\n",
       "    <tr>\n",
       "      <th>0</th>\n",
       "      <td>DataCollectedDate</td>\n",
       "      <td>0</td>\n",
       "      <td>0.000000</td>\n",
       "    </tr>\n",
       "    <tr>\n",
       "      <th>1</th>\n",
       "      <td>NameOfTheVehicle</td>\n",
       "      <td>0</td>\n",
       "      <td>0.000000</td>\n",
       "    </tr>\n",
       "    <tr>\n",
       "      <th>2</th>\n",
       "      <td>Price</td>\n",
       "      <td>0</td>\n",
       "      <td>0.000000</td>\n",
       "    </tr>\n",
       "    <tr>\n",
       "      <th>4</th>\n",
       "      <td>YearOfVehicleRegistration</td>\n",
       "      <td>0</td>\n",
       "      <td>0.000000</td>\n",
       "    </tr>\n",
       "    <tr>\n",
       "      <th>6</th>\n",
       "      <td>PowerOfTheEngine</td>\n",
       "      <td>0</td>\n",
       "      <td>0.000000</td>\n",
       "    </tr>\n",
       "    <tr>\n",
       "      <th>7</th>\n",
       "      <td>ModelOfTheVehicle</td>\n",
       "      <td>0</td>\n",
       "      <td>0.000000</td>\n",
       "    </tr>\n",
       "    <tr>\n",
       "      <th>8</th>\n",
       "      <td>DistranceTravelled</td>\n",
       "      <td>0</td>\n",
       "      <td>0.000000</td>\n",
       "    </tr>\n",
       "    <tr>\n",
       "      <th>9</th>\n",
       "      <td>MonthOfVehicleRegistration</td>\n",
       "      <td>0</td>\n",
       "      <td>0.000000</td>\n",
       "    </tr>\n",
       "    <tr>\n",
       "      <th>11</th>\n",
       "      <td>BrandOfTheVehicle</td>\n",
       "      <td>0</td>\n",
       "      <td>0.000000</td>\n",
       "    </tr>\n",
       "    <tr>\n",
       "      <th>13</th>\n",
       "      <td>DateOfAdCreation</td>\n",
       "      <td>0</td>\n",
       "      <td>0.000000</td>\n",
       "    </tr>\n",
       "    <tr>\n",
       "      <th>14</th>\n",
       "      <td>ZipCode</td>\n",
       "      <td>0</td>\n",
       "      <td>0.000000</td>\n",
       "    </tr>\n",
       "    <tr>\n",
       "      <th>15</th>\n",
       "      <td>DateOfAdLastSeen</td>\n",
       "      <td>0</td>\n",
       "      <td>0.000000</td>\n",
       "    </tr>\n",
       "  </tbody>\n",
       "</table>\n",
       "</div>"
      ],
      "text/plain": [
       "                   column_name  missing_count  missing_ratio\n",
       "12            IsDamageRepaired           6849       0.116367\n",
       "10           TypeOfTheFuelUsed           2085       0.035425\n",
       "3                  VehicleType           1844       0.031330\n",
       "5                  GearBoxType           1719       0.029206\n",
       "0            DataCollectedDate              0       0.000000\n",
       "1             NameOfTheVehicle              0       0.000000\n",
       "2                        Price              0       0.000000\n",
       "4    YearOfVehicleRegistration              0       0.000000\n",
       "6             PowerOfTheEngine              0       0.000000\n",
       "7            ModelOfTheVehicle              0       0.000000\n",
       "8           DistranceTravelled              0       0.000000\n",
       "9   MonthOfVehicleRegistration              0       0.000000\n",
       "11           BrandOfTheVehicle              0       0.000000\n",
       "13            DateOfAdCreation              0       0.000000\n",
       "14                     ZipCode              0       0.000000\n",
       "15            DateOfAdLastSeen              0       0.000000"
      ]
     },
     "execution_count": 456,
     "metadata": {},
     "output_type": "execute_result"
    }
   ],
   "source": [
    "missing = train.isnull().sum(axis=0).reset_index()\n",
    "missing.columns = ['column_name', 'missing_count']\n",
    "missing['missing_ratio'] = missing['missing_count'] / train.shape[0]\n",
    "missing.sort_values(by='missing_ratio', ascending=False)"
   ]
  },
  {
   "cell_type": "code",
   "execution_count": 457,
   "metadata": {
    "scrolled": true
   },
   "outputs": [
    {
     "data": {
      "text/html": [
       "<div>\n",
       "<style scoped>\n",
       "    .dataframe tbody tr th:only-of-type {\n",
       "        vertical-align: middle;\n",
       "    }\n",
       "\n",
       "    .dataframe tbody tr th {\n",
       "        vertical-align: top;\n",
       "    }\n",
       "\n",
       "    .dataframe thead th {\n",
       "        text-align: right;\n",
       "    }\n",
       "</style>\n",
       "<table border=\"1\" class=\"dataframe\">\n",
       "  <thead>\n",
       "    <tr style=\"text-align: right;\">\n",
       "      <th></th>\n",
       "      <th>column_name</th>\n",
       "      <th>missing_count</th>\n",
       "      <th>missing_ratio</th>\n",
       "    </tr>\n",
       "  </thead>\n",
       "  <tbody>\n",
       "    <tr>\n",
       "      <th>11</th>\n",
       "      <td>IsDamageRepaired</td>\n",
       "      <td>2245</td>\n",
       "      <td>0.114576</td>\n",
       "    </tr>\n",
       "    <tr>\n",
       "      <th>9</th>\n",
       "      <td>TypeOfTheFuelUsed</td>\n",
       "      <td>754</td>\n",
       "      <td>0.038481</td>\n",
       "    </tr>\n",
       "    <tr>\n",
       "      <th>2</th>\n",
       "      <td>VehicleType</td>\n",
       "      <td>636</td>\n",
       "      <td>0.032459</td>\n",
       "    </tr>\n",
       "    <tr>\n",
       "      <th>4</th>\n",
       "      <td>GearBoxType</td>\n",
       "      <td>504</td>\n",
       "      <td>0.025722</td>\n",
       "    </tr>\n",
       "    <tr>\n",
       "      <th>0</th>\n",
       "      <td>DataCollectedDate</td>\n",
       "      <td>0</td>\n",
       "      <td>0.000000</td>\n",
       "    </tr>\n",
       "    <tr>\n",
       "      <th>1</th>\n",
       "      <td>NameOfTheVehicle</td>\n",
       "      <td>0</td>\n",
       "      <td>0.000000</td>\n",
       "    </tr>\n",
       "    <tr>\n",
       "      <th>3</th>\n",
       "      <td>YearOfVehicleRegistration</td>\n",
       "      <td>0</td>\n",
       "      <td>0.000000</td>\n",
       "    </tr>\n",
       "    <tr>\n",
       "      <th>5</th>\n",
       "      <td>PowerOfTheEngine</td>\n",
       "      <td>0</td>\n",
       "      <td>0.000000</td>\n",
       "    </tr>\n",
       "    <tr>\n",
       "      <th>6</th>\n",
       "      <td>ModelOfTheVehicle</td>\n",
       "      <td>0</td>\n",
       "      <td>0.000000</td>\n",
       "    </tr>\n",
       "    <tr>\n",
       "      <th>7</th>\n",
       "      <td>DistranceTravelled</td>\n",
       "      <td>0</td>\n",
       "      <td>0.000000</td>\n",
       "    </tr>\n",
       "    <tr>\n",
       "      <th>8</th>\n",
       "      <td>MonthOfVehicleRegistration</td>\n",
       "      <td>0</td>\n",
       "      <td>0.000000</td>\n",
       "    </tr>\n",
       "    <tr>\n",
       "      <th>10</th>\n",
       "      <td>BrandOfTheVehicle</td>\n",
       "      <td>0</td>\n",
       "      <td>0.000000</td>\n",
       "    </tr>\n",
       "    <tr>\n",
       "      <th>12</th>\n",
       "      <td>DateOfAdCreation</td>\n",
       "      <td>0</td>\n",
       "      <td>0.000000</td>\n",
       "    </tr>\n",
       "    <tr>\n",
       "      <th>13</th>\n",
       "      <td>ZipCode</td>\n",
       "      <td>0</td>\n",
       "      <td>0.000000</td>\n",
       "    </tr>\n",
       "    <tr>\n",
       "      <th>14</th>\n",
       "      <td>DateOfAdLastSeen</td>\n",
       "      <td>0</td>\n",
       "      <td>0.000000</td>\n",
       "    </tr>\n",
       "  </tbody>\n",
       "</table>\n",
       "</div>"
      ],
      "text/plain": [
       "                   column_name  missing_count  missing_ratio\n",
       "11            IsDamageRepaired           2245       0.114576\n",
       "9            TypeOfTheFuelUsed            754       0.038481\n",
       "2                  VehicleType            636       0.032459\n",
       "4                  GearBoxType            504       0.025722\n",
       "0            DataCollectedDate              0       0.000000\n",
       "1             NameOfTheVehicle              0       0.000000\n",
       "3    YearOfVehicleRegistration              0       0.000000\n",
       "5             PowerOfTheEngine              0       0.000000\n",
       "6            ModelOfTheVehicle              0       0.000000\n",
       "7           DistranceTravelled              0       0.000000\n",
       "8   MonthOfVehicleRegistration              0       0.000000\n",
       "10           BrandOfTheVehicle              0       0.000000\n",
       "12            DateOfAdCreation              0       0.000000\n",
       "13                     ZipCode              0       0.000000\n",
       "14            DateOfAdLastSeen              0       0.000000"
      ]
     },
     "execution_count": 457,
     "metadata": {},
     "output_type": "execute_result"
    }
   ],
   "source": [
    "missing_test = test.isnull().sum(axis=0).reset_index()\n",
    "missing_test.columns = ['column_name', 'missing_count']\n",
    "missing_test['missing_ratio'] = missing_test['missing_count'] / test.shape[0]\n",
    "missing_test.sort_values(by='missing_ratio', ascending=False)"
   ]
  },
  {
   "cell_type": "code",
   "execution_count": 460,
   "metadata": {},
   "outputs": [],
   "source": [
    "import numpy as np\n",
    "train= train.replace(\"\",np.nan)\n",
    "test= test.replace(\"\",np.nan)\n"
   ]
  },
  {
   "cell_type": "code",
   "execution_count": 461,
   "metadata": {},
   "outputs": [
    {
     "data": {
      "text/html": [
       "<div>\n",
       "<style scoped>\n",
       "    .dataframe tbody tr th:only-of-type {\n",
       "        vertical-align: middle;\n",
       "    }\n",
       "\n",
       "    .dataframe tbody tr th {\n",
       "        vertical-align: top;\n",
       "    }\n",
       "\n",
       "    .dataframe thead th {\n",
       "        text-align: right;\n",
       "    }\n",
       "</style>\n",
       "<table border=\"1\" class=\"dataframe\">\n",
       "  <thead>\n",
       "    <tr style=\"text-align: right;\">\n",
       "      <th></th>\n",
       "      <th>Column_Name</th>\n",
       "      <th>Unique</th>\n",
       "      <th>dtypes</th>\n",
       "    </tr>\n",
       "  </thead>\n",
       "  <tbody>\n",
       "    <tr>\n",
       "      <th>5</th>\n",
       "      <td>GearBoxType</td>\n",
       "      <td>2</td>\n",
       "      <td>object</td>\n",
       "    </tr>\n",
       "    <tr>\n",
       "      <th>12</th>\n",
       "      <td>IsDamageRepaired</td>\n",
       "      <td>2</td>\n",
       "      <td>object</td>\n",
       "    </tr>\n",
       "    <tr>\n",
       "      <th>10</th>\n",
       "      <td>TypeOfTheFuelUsed</td>\n",
       "      <td>7</td>\n",
       "      <td>object</td>\n",
       "    </tr>\n",
       "    <tr>\n",
       "      <th>3</th>\n",
       "      <td>VehicleType</td>\n",
       "      <td>8</td>\n",
       "      <td>object</td>\n",
       "    </tr>\n",
       "    <tr>\n",
       "      <th>9</th>\n",
       "      <td>MonthOfVehicleRegistration</td>\n",
       "      <td>12</td>\n",
       "      <td>int64</td>\n",
       "    </tr>\n",
       "    <tr>\n",
       "      <th>8</th>\n",
       "      <td>DistranceTravelled</td>\n",
       "      <td>13</td>\n",
       "      <td>int64</td>\n",
       "    </tr>\n",
       "    <tr>\n",
       "      <th>4</th>\n",
       "      <td>YearOfVehicleRegistration</td>\n",
       "      <td>17</td>\n",
       "      <td>int64</td>\n",
       "    </tr>\n",
       "    <tr>\n",
       "      <th>11</th>\n",
       "      <td>BrandOfTheVehicle</td>\n",
       "      <td>38</td>\n",
       "      <td>object</td>\n",
       "    </tr>\n",
       "    <tr>\n",
       "      <th>13</th>\n",
       "      <td>DateOfAdCreation</td>\n",
       "      <td>77</td>\n",
       "      <td>object</td>\n",
       "    </tr>\n",
       "    <tr>\n",
       "      <th>7</th>\n",
       "      <td>ModelOfTheVehicle</td>\n",
       "      <td>235</td>\n",
       "      <td>object</td>\n",
       "    </tr>\n",
       "    <tr>\n",
       "      <th>6</th>\n",
       "      <td>PowerOfTheEngine</td>\n",
       "      <td>401</td>\n",
       "      <td>int64</td>\n",
       "    </tr>\n",
       "    <tr>\n",
       "      <th>2</th>\n",
       "      <td>Price</td>\n",
       "      <td>2358</td>\n",
       "      <td>int64</td>\n",
       "    </tr>\n",
       "    <tr>\n",
       "      <th>14</th>\n",
       "      <td>ZipCode</td>\n",
       "      <td>7121</td>\n",
       "      <td>int64</td>\n",
       "    </tr>\n",
       "    <tr>\n",
       "      <th>15</th>\n",
       "      <td>DateOfAdLastSeen</td>\n",
       "      <td>10739</td>\n",
       "      <td>object</td>\n",
       "    </tr>\n",
       "    <tr>\n",
       "      <th>0</th>\n",
       "      <td>DataCollectedDate</td>\n",
       "      <td>12358</td>\n",
       "      <td>object</td>\n",
       "    </tr>\n",
       "    <tr>\n",
       "      <th>1</th>\n",
       "      <td>NameOfTheVehicle</td>\n",
       "      <td>40839</td>\n",
       "      <td>object</td>\n",
       "    </tr>\n",
       "  </tbody>\n",
       "</table>\n",
       "</div>"
      ],
      "text/plain": [
       "                   Column_Name  Unique  dtypes\n",
       "5                  GearBoxType       2  object\n",
       "12            IsDamageRepaired       2  object\n",
       "10           TypeOfTheFuelUsed       7  object\n",
       "3                  VehicleType       8  object\n",
       "9   MonthOfVehicleRegistration      12   int64\n",
       "8           DistranceTravelled      13   int64\n",
       "4    YearOfVehicleRegistration      17   int64\n",
       "11           BrandOfTheVehicle      38  object\n",
       "13            DateOfAdCreation      77  object\n",
       "7            ModelOfTheVehicle     235  object\n",
       "6             PowerOfTheEngine     401   int64\n",
       "2                        Price    2358   int64\n",
       "14                     ZipCode    7121   int64\n",
       "15            DateOfAdLastSeen   10739  object\n",
       "0            DataCollectedDate   12358  object\n",
       "1             NameOfTheVehicle   40839  object"
      ]
     },
     "execution_count": 461,
     "metadata": {},
     "output_type": "execute_result"
    }
   ],
   "source": [
    "unique_counts = pd.DataFrame.from_records([(col, train[col].nunique(),train[col].dtypes) for col in train.columns],\n",
    "                          columns=['Column_Name', 'Unique','dtypes']).sort_values(by=['Unique'])\n",
    "unique_counts"
   ]
  },
  {
   "cell_type": "markdown",
   "metadata": {},
   "source": [
    "# datatypes conversion"
   ]
  },
  {
   "cell_type": "code",
   "execution_count": 462,
   "metadata": {},
   "outputs": [],
   "source": [
    "for col in ['MonthOfVehicleRegistration']:\n",
    "    train[col] = train[col].astype('category')\n",
    "    test[col] = test[col].astype('category')\n",
    "        "
   ]
  },
  {
   "cell_type": "code",
   "execution_count": 463,
   "metadata": {},
   "outputs": [
    {
     "data": {
      "text/html": [
       "<div>\n",
       "<style scoped>\n",
       "    .dataframe tbody tr th:only-of-type {\n",
       "        vertical-align: middle;\n",
       "    }\n",
       "\n",
       "    .dataframe tbody tr th {\n",
       "        vertical-align: top;\n",
       "    }\n",
       "\n",
       "    .dataframe thead th {\n",
       "        text-align: right;\n",
       "    }\n",
       "</style>\n",
       "<table border=\"1\" class=\"dataframe\">\n",
       "  <thead>\n",
       "    <tr style=\"text-align: right;\">\n",
       "      <th></th>\n",
       "      <th>DataCollectedDate</th>\n",
       "      <th>NameOfTheVehicle</th>\n",
       "      <th>Price</th>\n",
       "      <th>VehicleType</th>\n",
       "      <th>YearOfVehicleRegistration</th>\n",
       "      <th>GearBoxType</th>\n",
       "      <th>PowerOfTheEngine</th>\n",
       "      <th>ModelOfTheVehicle</th>\n",
       "      <th>DistranceTravelled</th>\n",
       "      <th>MonthOfVehicleRegistration</th>\n",
       "      <th>TypeOfTheFuelUsed</th>\n",
       "      <th>BrandOfTheVehicle</th>\n",
       "      <th>IsDamageRepaired</th>\n",
       "      <th>DateOfAdCreation</th>\n",
       "      <th>ZipCode</th>\n",
       "      <th>DateOfAdLastSeen</th>\n",
       "    </tr>\n",
       "  </thead>\n",
       "  <tbody>\n",
       "    <tr>\n",
       "      <th>0</th>\n",
       "      <td>03-04-2016 11:54</td>\n",
       "      <td>Subaru_G3X_Justy_1.3</td>\n",
       "      <td>3850</td>\n",
       "      <td>Small Car</td>\n",
       "      <td>2004</td>\n",
       "      <td>manual</td>\n",
       "      <td>94</td>\n",
       "      <td>Other</td>\n",
       "      <td>50000</td>\n",
       "      <td>7</td>\n",
       "      <td>petrol</td>\n",
       "      <td>subaru</td>\n",
       "      <td>No</td>\n",
       "      <td>03-04-2016 00:00</td>\n",
       "      <td>34474</td>\n",
       "      <td>07-04-2016 13:15</td>\n",
       "    </tr>\n",
       "    <tr>\n",
       "      <th>1</th>\n",
       "      <td>08-03-2016 19:54</td>\n",
       "      <td>Volkswagen_Passat_Variant_2.0_TDI_DPF_Comfortline</td>\n",
       "      <td>5999</td>\n",
       "      <td>Combi</td>\n",
       "      <td>2007</td>\n",
       "      <td>manual</td>\n",
       "      <td>140</td>\n",
       "      <td>passat</td>\n",
       "      <td>150000</td>\n",
       "      <td>5</td>\n",
       "      <td>diesel</td>\n",
       "      <td>volkswagen</td>\n",
       "      <td>No</td>\n",
       "      <td>08-03-2016 00:00</td>\n",
       "      <td>50765</td>\n",
       "      <td>11-03-2016 17:15</td>\n",
       "    </tr>\n",
       "    <tr>\n",
       "      <th>2</th>\n",
       "      <td>26-03-2016 17:38</td>\n",
       "      <td>Mercedes_Benz_C_220_CDI_Automatik_Elegance_AHK...</td>\n",
       "      <td>5990</td>\n",
       "      <td>limousine</td>\n",
       "      <td>2007</td>\n",
       "      <td>automatic</td>\n",
       "      <td>150</td>\n",
       "      <td>c_klasse</td>\n",
       "      <td>150000</td>\n",
       "      <td>2</td>\n",
       "      <td>diesel</td>\n",
       "      <td>mercedes_benz</td>\n",
       "      <td>No</td>\n",
       "      <td>26-03-2016 00:00</td>\n",
       "      <td>90475</td>\n",
       "      <td>26-03-2016 17:38</td>\n",
       "    </tr>\n",
       "    <tr>\n",
       "      <th>3</th>\n",
       "      <td>11-03-2016 13:42</td>\n",
       "      <td>Alfa_Romeo_147_1.9_JTD_16V_M_Jet</td>\n",
       "      <td>4000</td>\n",
       "      <td>limousine</td>\n",
       "      <td>2005</td>\n",
       "      <td>manual</td>\n",
       "      <td>150</td>\n",
       "      <td>147</td>\n",
       "      <td>150000</td>\n",
       "      <td>9</td>\n",
       "      <td>diesel</td>\n",
       "      <td>alfa_romeo</td>\n",
       "      <td>No</td>\n",
       "      <td>11-03-2016 00:00</td>\n",
       "      <td>40699</td>\n",
       "      <td>12-03-2016 02:45</td>\n",
       "    </tr>\n",
       "    <tr>\n",
       "      <th>4</th>\n",
       "      <td>17-03-2016 17:49</td>\n",
       "      <td>Audi_A4</td>\n",
       "      <td>12950</td>\n",
       "      <td>Combi</td>\n",
       "      <td>2005</td>\n",
       "      <td>manual</td>\n",
       "      <td>200</td>\n",
       "      <td>a4</td>\n",
       "      <td>125000</td>\n",
       "      <td>3</td>\n",
       "      <td>petrol</td>\n",
       "      <td>audi</td>\n",
       "      <td>No</td>\n",
       "      <td>17-03-2016 00:00</td>\n",
       "      <td>84347</td>\n",
       "      <td>07-04-2016 04:17</td>\n",
       "    </tr>\n",
       "  </tbody>\n",
       "</table>\n",
       "</div>"
      ],
      "text/plain": [
       "  DataCollectedDate                                   NameOfTheVehicle  Price  \\\n",
       "0  03-04-2016 11:54                               Subaru_G3X_Justy_1.3   3850   \n",
       "1  08-03-2016 19:54  Volkswagen_Passat_Variant_2.0_TDI_DPF_Comfortline   5999   \n",
       "2  26-03-2016 17:38  Mercedes_Benz_C_220_CDI_Automatik_Elegance_AHK...   5990   \n",
       "3  11-03-2016 13:42                   Alfa_Romeo_147_1.9_JTD_16V_M_Jet   4000   \n",
       "4  17-03-2016 17:49                                            Audi_A4  12950   \n",
       "\n",
       "  VehicleType  YearOfVehicleRegistration GearBoxType  PowerOfTheEngine  \\\n",
       "0   Small Car                       2004      manual                94   \n",
       "1       Combi                       2007      manual               140   \n",
       "2   limousine                       2007   automatic               150   \n",
       "3   limousine                       2005      manual               150   \n",
       "4       Combi                       2005      manual               200   \n",
       "\n",
       "  ModelOfTheVehicle  DistranceTravelled MonthOfVehicleRegistration  \\\n",
       "0             Other               50000                          7   \n",
       "1            passat              150000                          5   \n",
       "2          c_klasse              150000                          2   \n",
       "3               147              150000                          9   \n",
       "4                a4              125000                          3   \n",
       "\n",
       "  TypeOfTheFuelUsed BrandOfTheVehicle IsDamageRepaired  DateOfAdCreation  \\\n",
       "0            petrol            subaru               No  03-04-2016 00:00   \n",
       "1            diesel        volkswagen               No  08-03-2016 00:00   \n",
       "2            diesel     mercedes_benz               No  26-03-2016 00:00   \n",
       "3            diesel        alfa_romeo               No  11-03-2016 00:00   \n",
       "4            petrol              audi               No  17-03-2016 00:00   \n",
       "\n",
       "   ZipCode  DateOfAdLastSeen  \n",
       "0    34474  07-04-2016 13:15  \n",
       "1    50765  11-03-2016 17:15  \n",
       "2    90475  26-03-2016 17:38  \n",
       "3    40699  12-03-2016 02:45  \n",
       "4    84347  07-04-2016 04:17  "
      ]
     },
     "execution_count": 463,
     "metadata": {},
     "output_type": "execute_result"
    }
   ],
   "source": [
    "train.head()"
   ]
  },
  {
   "cell_type": "markdown",
   "metadata": {},
   "source": [
    "# Date Types conversion"
   ]
  },
  {
   "cell_type": "code",
   "execution_count": 464,
   "metadata": {},
   "outputs": [],
   "source": [
    "train['DataCollectedDate']=pd.to_datetime(train['DataCollectedDate'])\n",
    "train['DateOfAdLastSeen']=pd.to_datetime(train['DateOfAdLastSeen'])\n",
    "train['DateOfAdCreation']=pd.to_datetime(train['DateOfAdCreation'])\n"
   ]
  },
  {
   "cell_type": "code",
   "execution_count": 465,
   "metadata": {},
   "outputs": [],
   "source": [
    "test['DataCollectedDate']=pd.to_datetime(test['DataCollectedDate'])\n",
    "test['DateOfAdLastSeen']=pd.to_datetime(test['DateOfAdLastSeen'])\n",
    "test['DateOfAdCreation']=pd.to_datetime(test['DateOfAdCreation'])\n"
   ]
  },
  {
   "cell_type": "code",
   "execution_count": 466,
   "metadata": {},
   "outputs": [],
   "source": [
    "train['DataCollectedYear'] = train['DataCollectedDate'].dt.year\n",
    "train['vehicle_age_years'] = ( train['DataCollectedYear']-train['YearOfVehicleRegistration'] )\n",
    "train['Ad_days'] = ( train['DateOfAdLastSeen']-train['DateOfAdCreation'] ).dt.days"
   ]
  },
  {
   "cell_type": "code",
   "execution_count": 467,
   "metadata": {},
   "outputs": [],
   "source": [
    "# on test data\n",
    "test['DataCollectedYear'] = test['DataCollectedDate'].dt.year\n",
    "test['vehicle_age_years'] = ( test['DataCollectedYear']-test['YearOfVehicleRegistration'] )\n",
    "test['Ad_days'] = ( test['DateOfAdLastSeen']-test['DateOfAdCreation'] ).dt.days"
   ]
  },
  {
   "cell_type": "code",
   "execution_count": null,
   "metadata": {},
   "outputs": [],
   "source": []
  },
  {
   "cell_type": "code",
   "execution_count": 468,
   "metadata": {},
   "outputs": [
    {
     "data": {
      "text/plain": [
       "DataCollectedDate             datetime64[ns]\n",
       "NameOfTheVehicle                      object\n",
       "Price                                  int64\n",
       "VehicleType                           object\n",
       "YearOfVehicleRegistration              int64\n",
       "GearBoxType                           object\n",
       "PowerOfTheEngine                       int64\n",
       "ModelOfTheVehicle                     object\n",
       "DistranceTravelled                     int64\n",
       "MonthOfVehicleRegistration          category\n",
       "TypeOfTheFuelUsed                     object\n",
       "BrandOfTheVehicle                     object\n",
       "IsDamageRepaired                      object\n",
       "DateOfAdCreation              datetime64[ns]\n",
       "ZipCode                                int64\n",
       "DateOfAdLastSeen              datetime64[ns]\n",
       "DataCollectedYear                      int64\n",
       "vehicle_age_years                      int64\n",
       "Ad_days                                int64\n",
       "dtype: object"
      ]
     },
     "execution_count": 468,
     "metadata": {},
     "output_type": "execute_result"
    }
   ],
   "source": [
    "train.dtypes"
   ]
  },
  {
   "cell_type": "code",
   "execution_count": 469,
   "metadata": {},
   "outputs": [
    {
     "data": {
      "text/plain": [
       "DataCollectedDate             datetime64[ns]\n",
       "NameOfTheVehicle                      object\n",
       "VehicleType                           object\n",
       "YearOfVehicleRegistration              int64\n",
       "GearBoxType                           object\n",
       "PowerOfTheEngine                       int64\n",
       "ModelOfTheVehicle                     object\n",
       "DistranceTravelled                     int64\n",
       "MonthOfVehicleRegistration          category\n",
       "TypeOfTheFuelUsed                     object\n",
       "BrandOfTheVehicle                     object\n",
       "IsDamageRepaired                      object\n",
       "DateOfAdCreation              datetime64[ns]\n",
       "ZipCode                                int64\n",
       "DateOfAdLastSeen              datetime64[ns]\n",
       "DataCollectedYear                      int64\n",
       "vehicle_age_years                      int64\n",
       "Ad_days                                int64\n",
       "dtype: object"
      ]
     },
     "execution_count": 469,
     "metadata": {},
     "output_type": "execute_result"
    }
   ],
   "source": [
    "test.dtypes"
   ]
  },
  {
   "cell_type": "markdown",
   "metadata": {},
   "source": [
    "# Dropping the date columns"
   ]
  },
  {
   "cell_type": "code",
   "execution_count": 470,
   "metadata": {},
   "outputs": [],
   "source": [
    "train.drop(['DataCollectedDate','DateOfAdCreation','DateOfAdLastSeen','DataCollectedYear','YearOfVehicleRegistration'],axis=1,inplace=True)\n"
   ]
  },
  {
   "cell_type": "code",
   "execution_count": 471,
   "metadata": {},
   "outputs": [],
   "source": [
    "test.drop(['DataCollectedDate','DateOfAdCreation','DateOfAdLastSeen','DataCollectedYear','YearOfVehicleRegistration'],axis=1,inplace=True)"
   ]
  },
  {
   "cell_type": "markdown",
   "metadata": {},
   "source": [
    "# replacing the unique values in IsDamageRequired"
   ]
  },
  {
   "cell_type": "code",
   "execution_count": 472,
   "metadata": {},
   "outputs": [],
   "source": [
    "train['IsDamageRepaired']=train['IsDamageRepaired'].replace({'No':0,'Yes':1})\n",
    "test['IsDamageRepaired']=test['IsDamageRepaired'].replace({'No':0,'Yes':1})\n"
   ]
  },
  {
   "cell_type": "code",
   "execution_count": 473,
   "metadata": {},
   "outputs": [],
   "source": [
    "# converting object type to categorical type\n",
    "for col in ['NameOfTheVehicle','VehicleType','GearBoxType','ModelOfTheVehicle',\n",
    "            'TypeOfTheFuelUsed','BrandOfTheVehicle','IsDamageRepaired']:\n",
    "    train[col] = train[col].astype('category')\n",
    "    test[col] = test[col].astype('category')   "
   ]
  },
  {
   "cell_type": "markdown",
   "metadata": {},
   "source": [
    "# Checking the skewness of the target variable"
   ]
  },
  {
   "cell_type": "code",
   "execution_count": 474,
   "metadata": {
    "scrolled": true
   },
   "outputs": [
    {
     "name": "stdout",
     "output_type": "stream",
     "text": [
      "Skewness: 1.741881\n",
      "Kurtosis: 3.239900\n"
     ]
    },
    {
     "data": {
      "image/png": "[encoded data removed]",
      "text/plain": [
       "<matplotlib.figure.Figure at 0x28b523424a8>"
      ]
     },
     "metadata": {},
     "output_type": "display_data"
    }
   ],
   "source": [
    "import seaborn as sns\n",
    "sns.distplot(train['Price'])\n",
    "print(\"Skewness: %f\" % train.Price.skew())\n",
    "print(\"Kurtosis: %f\" % train.Price.kurt())\n"
   ]
  },
  {
   "cell_type": "code",
   "execution_count": 475,
   "metadata": {},
   "outputs": [],
   "source": [
    "# As the target is right skewed we need to make it as normally distributed"
   ]
  },
  {
   "cell_type": "code",
   "execution_count": 476,
   "metadata": {},
   "outputs": [],
   "source": [
    "train['log_Price']=np.log(train['Price'])\n",
    "train.drop('Price',axis=1,inplace=True)\n"
   ]
  },
  {
   "cell_type": "code",
   "execution_count": 477,
   "metadata": {},
   "outputs": [
    {
     "data": {
      "text/plain": [
       "(58857, 14)"
      ]
     },
     "execution_count": 477,
     "metadata": {},
     "output_type": "execute_result"
    }
   ],
   "source": [
    "train.shape"
   ]
  },
  {
   "cell_type": "code",
   "execution_count": 478,
   "metadata": {},
   "outputs": [
    {
     "name": "stdout",
     "output_type": "stream",
     "text": [
      "Skewness: 0.104807\n",
      "Kurtosis: -0.798373\n"
     ]
    },
    {
     "data": {
      "image/png": "[encoded data removed]",
      "text/plain": [
       "<matplotlib.figure.Figure at 0x28b5237ca90>"
      ]
     },
     "metadata": {},
     "output_type": "display_data"
    }
   ],
   "source": [
    "sns.distplot(train['log_Price'])\n",
    "print(\"Skewness: %f\" % train.log_Price.skew())\n",
    "print(\"Kurtosis: %f\" % train.log_Price.kurt())\n"
   ]
  },
  {
   "cell_type": "code",
   "execution_count": 479,
   "metadata": {},
   "outputs": [
    {
     "data": {
      "text/plain": [
       "NameOfTheVehicle              category\n",
       "VehicleType                   category\n",
       "GearBoxType                   category\n",
       "PowerOfTheEngine                 int64\n",
       "ModelOfTheVehicle             category\n",
       "DistranceTravelled               int64\n",
       "MonthOfVehicleRegistration    category\n",
       "TypeOfTheFuelUsed             category\n",
       "BrandOfTheVehicle             category\n",
       "IsDamageRepaired              category\n",
       "ZipCode                          int64\n",
       "vehicle_age_years                int64\n",
       "Ad_days                          int64\n",
       "log_Price                      float64\n",
       "dtype: object"
      ]
     },
     "execution_count": 479,
     "metadata": {},
     "output_type": "execute_result"
    }
   ],
   "source": [
    "train.dtypes"
   ]
  },
  {
   "cell_type": "markdown",
   "metadata": {},
   "source": [
    "# univariant analysis"
   ]
  },
  {
   "cell_type": "code",
   "execution_count": 480,
   "metadata": {},
   "outputs": [
    {
     "data": {
      "text/plain": [
       "<matplotlib.axes._subplots.AxesSubplot at 0x28b5238e3c8>"
      ]
     },
     "execution_count": 480,
     "metadata": {},
     "output_type": "execute_result"
    },
    {
     "data": {
      "image/png": "[encoded data removed]",
      "text/plain": [
       "<matplotlib.figure.Figure at 0x28b523995c0>"
      ]
     },
     "metadata": {},
     "output_type": "display_data"
    }
   ],
   "source": [
    "\n",
    "sns.countplot(x=\"VehicleType\", data=train)"
   ]
  },
  {
   "cell_type": "code",
   "execution_count": 482,
   "metadata": {},
   "outputs": [
    {
     "data": {
      "text/plain": [
       "<matplotlib.axes._subplots.AxesSubplot at 0x28b545e2b00>"
      ]
     },
     "execution_count": 482,
     "metadata": {},
     "output_type": "execute_result"
    },
    {
     "data": {
      "image/png": "[encoded data removed]",
      "text/plain": [
       "<matplotlib.figure.Figure at 0x28b546ee128>"
      ]
     },
     "metadata": {},
     "output_type": "display_data"
    }
   ],
   "source": [
    "\n",
    "sns.countplot(x=\"MonthOfVehicleRegistration\", data=train)"
   ]
  },
  {
   "cell_type": "code",
   "execution_count": 483,
   "metadata": {},
   "outputs": [
    {
     "data": {
      "text/plain": [
       "<matplotlib.axes._subplots.AxesSubplot at 0x28b5463a1d0>"
      ]
     },
     "execution_count": 483,
     "metadata": {},
     "output_type": "execute_result"
    },
    {
     "data": {
      "image/png": "[encoded data removed]",
      "text/plain": [
       "<matplotlib.figure.Figure at 0x28b5446b438>"
      ]
     },
     "metadata": {},
     "output_type": "display_data"
    }
   ],
   "source": [
    "\n",
    "sns.countplot(x=\"GearBoxType\", data=train)"
   ]
  },
  {
   "cell_type": "code",
   "execution_count": null,
   "metadata": {},
   "outputs": [],
   "source": []
  },
  {
   "cell_type": "code",
   "execution_count": null,
   "metadata": {},
   "outputs": [],
   "source": []
  },
  {
   "cell_type": "markdown",
   "metadata": {},
   "source": [
    "# cheching the relation of numerical variables with respect to log_price"
   ]
  },
  {
   "cell_type": "code",
   "execution_count": 484,
   "metadata": {},
   "outputs": [
    {
     "data": {
      "text/plain": [
       "<matplotlib.axes._subplots.AxesSubplot at 0x28b49d5b358>"
      ]
     },
     "execution_count": 484,
     "metadata": {},
     "output_type": "execute_result"
    },
    {
     "data": {
      "image/png": "[encoded data removed]",
      "text/plain": [
       "<matplotlib.figure.Figure at 0x28b55ea3358>"
      ]
     },
     "metadata": {},
     "output_type": "display_data"
    }
   ],
   "source": [
    "var = 'PowerOfTheEngine'\n",
    "data1 = pd.concat([train['log_Price'], train[var]],axis=1)\n",
    "data1.plot.scatter(x=var, y='log_Price',ylim=(0.8000))"
   ]
  },
  {
   "cell_type": "code",
   "execution_count": 485,
   "metadata": {},
   "outputs": [
    {
     "data": {
      "text/plain": [
       "<matplotlib.axes._subplots.AxesSubplot at 0x28b30f88f60>"
      ]
     },
     "execution_count": 485,
     "metadata": {},
     "output_type": "execute_result"
    },
    {
     "data": {
      "image/png": "[encoded data removed]",
      "text/plain": [
       "<matplotlib.figure.Figure at 0x28b30fa0860>"
      ]
     },
     "metadata": {},
     "output_type": "display_data"
    }
   ],
   "source": [
    "var = 'DistranceTravelled'\n",
    "data2 = pd.concat([train['log_Price'], train[var]],axis=1)\n",
    "data2.plot.scatter(x=var, y='log_Price',ylim=(0.8000))"
   ]
  },
  {
   "cell_type": "code",
   "execution_count": 486,
   "metadata": {},
   "outputs": [
    {
     "data": {
      "text/plain": [
       "<matplotlib.axes._subplots.AxesSubplot at 0x28b30fed6d8>"
      ]
     },
     "execution_count": 486,
     "metadata": {},
     "output_type": "execute_result"
    },
    {
     "data": {
      "image/png": "[encoded data removed]",
      "text/plain": [
       "<matplotlib.figure.Figure at 0x28b545ec5f8>"
      ]
     },
     "metadata": {},
     "output_type": "display_data"
    }
   ],
   "source": [
    "var = 'Ad_days'\n",
    "data3 = pd.concat([train['log_Price'], train[var]],axis=1)\n",
    "data3.plot.scatter(x=var, y='log_Price',ylim=(0.8000))"
   ]
  },
  {
   "cell_type": "code",
   "execution_count": 487,
   "metadata": {},
   "outputs": [],
   "source": []
  },
  {
   "cell_type": "code",
   "execution_count": 489,
   "metadata": {},
   "outputs": [
    {
     "data": {
      "text/plain": [
       "volkswagen       11829\n",
       "bmw               6996\n",
       "mercedes_benz     6028\n",
       "audi              5970\n",
       "opel              5348\n",
       "ford              3815\n",
       "renault           2440\n",
       "peugeot           1890\n",
       "fiat              1315\n",
       "skoda             1310\n",
       "seat              1236\n",
       "smart             1153\n",
       "citroen            938\n",
       "mazda              933\n",
       "toyota             930\n",
       "Name: BrandOfTheVehicle, dtype: int64"
      ]
     },
     "execution_count": 489,
     "metadata": {},
     "output_type": "execute_result"
    }
   ],
   "source": [
    "train.BrandOfTheVehicle.value_counts().sort_values(ascending=False).head(15)"
   ]
  },
  {
   "cell_type": "code",
   "execution_count": 490,
   "metadata": {},
   "outputs": [
    {
     "data": {
      "image/png": "[encoded data removed]",
      "text/plain": [
       "<matplotlib.figure.Figure at 0x28b31064048>"
      ]
     },
     "metadata": {},
     "output_type": "display_data"
    }
   ],
   "source": [
    "import matplotlib.pyplot as plt\n",
    "f, ax = plt.subplots(figsize=(8,8))\n",
    "fig = sns.countplot(y='BrandOfTheVehicle',data=train)"
   ]
  },
  {
   "cell_type": "code",
   "execution_count": 491,
   "metadata": {},
   "outputs": [
    {
     "data": {
      "text/plain": [
       "52131"
      ]
     },
     "execution_count": 491,
     "metadata": {},
     "output_type": "execute_result"
    }
   ],
   "source": [
    "top = train.BrandOfTheVehicle.value_counts().sort_values(ascending=False).head(15)\n",
    "sum(top)"
   ]
  },
  {
   "cell_type": "markdown",
   "metadata": {},
   "source": [
    "* these 15 companies cars are the most selling cars out of the total data *"
   ]
  },
  {
   "cell_type": "markdown",
   "metadata": {},
   "source": [
    "# checking the categorical w.r.t log_price"
   ]
  },
  {
   "cell_type": "code",
   "execution_count": 492,
   "metadata": {},
   "outputs": [
    {
     "data": {
      "image/png": "[encoded data removed]",
      "text/plain": [
       "<matplotlib.figure.Figure at 0x28b31d6c668>"
      ]
     },
     "metadata": {},
     "output_type": "display_data"
    }
   ],
   "source": [
    "var = 'BrandOfTheVehicle'\n",
    "data = pd.concat([train['log_Price'], train[var].dropna()],axis=1)\n",
    "f, ax = plt.subplots(figsize=(8,8))\n",
    "fig = sns.boxplot(x='log_Price', y=var,data=data)\n",
    "#fig.axis(ymin=0, ymax=800000)"
   ]
  },
  {
   "cell_type": "code",
   "execution_count": null,
   "metadata": {},
   "outputs": [],
   "source": []
  },
  {
   "cell_type": "code",
   "execution_count": 493,
   "metadata": {},
   "outputs": [
    {
     "data": {
      "image/png": "[encoded data removed]",
      "text/plain": [
       "<matplotlib.figure.Figure at 0x28b4ccd57b8>"
      ]
     },
     "metadata": {},
     "output_type": "display_data"
    }
   ],
   "source": [
    "var = 'VehicleType'\n",
    "data = pd.concat([train['log_Price'], train[var].dropna()],axis=1)\n",
    "f, ax = plt.subplots(figsize=(8,8))\n",
    "fig = sns.boxplot(x=var, y='log_Price',data=data)\n",
    "#fig.axis(ymin=0, ymax=800000)"
   ]
  },
  {
   "cell_type": "code",
   "execution_count": 494,
   "metadata": {},
   "outputs": [],
   "source": [
    "#We observe that SUV is the most expensive vehicle type while small car is the cheapest. \n",
    "#However, kleinwagen have many outliers which may signify either user error or specific higher end brand and model combination."
   ]
  },
  {
   "cell_type": "code",
   "execution_count": 495,
   "metadata": {},
   "outputs": [
    {
     "data": {
      "image/png": "[encoded data removed]",
      "text/plain": [
       "<matplotlib.figure.Figure at 0x28b50bb2128>"
      ]
     },
     "metadata": {},
     "output_type": "display_data"
    }
   ],
   "source": [
    "var = 'GearBoxType'\n",
    "data = pd.concat([train['log_Price'], train[var].dropna()],axis=1)\n",
    "f, ax = plt.subplots(figsize=(8,8))\n",
    "fig = sns.boxplot(x=var, y='log_Price',data=data)\n",
    "#fig.axis(ymin=0, ymax=800000)"
   ]
  },
  {
   "cell_type": "code",
   "execution_count": 496,
   "metadata": {},
   "outputs": [],
   "source": [
    " #the second hand cars with automatic gear type are more expensive than manual"
   ]
  },
  {
   "cell_type": "code",
   "execution_count": 497,
   "metadata": {},
   "outputs": [
    {
     "data": {
      "image/png": "[encoded data removed]",
      "text/plain": [
       "<matplotlib.figure.Figure at 0x28b517944a8>"
      ]
     },
     "metadata": {},
     "output_type": "display_data"
    }
   ],
   "source": [
    "import matplotlib.pyplot as plt\n",
    "var = 'MonthOfVehicleRegistration'\n",
    "data = pd.concat([train['log_Price'], train[var]],axis=1)\n",
    "f, ax = plt.subplots(figsize=(8,6))\n",
    "fig = sns.boxplot(x=var, y='log_Price',data=data)\n",
    "#fig.axis(ymin=0, ymax=800000)"
   ]
  },
  {
   "cell_type": "code",
   "execution_count": 498,
   "metadata": {},
   "outputs": [
    {
     "data": {
      "image/png": "[encoded data removed]",
      "text/plain": [
       "<matplotlib.figure.Figure at 0x28b523e4940>"
      ]
     },
     "metadata": {},
     "output_type": "display_data"
    }
   ],
   "source": [
    "var = 'TypeOfTheFuelUsed'\n",
    "data = pd.concat([train['log_Price'], train[var].dropna()],axis=1)\n",
    "f, ax = plt.subplots(figsize=(8,6))\n",
    "fig = sns.boxplot(x=var, y='log_Price',data=data)\n",
    "#fig.axis(ymin=0, ymax=800000)"
   ]
  },
  {
   "cell_type": "code",
   "execution_count": 499,
   "metadata": {},
   "outputs": [
    {
     "data": {
      "text/plain": [
       "(-0.5, 1.5, 1.5, 2500)"
      ]
     },
     "execution_count": 499,
     "metadata": {},
     "output_type": "execute_result"
    },
    {
     "data": {
      "image/png": "[encoded data removed]",
      "text/plain": [
       "<matplotlib.figure.Figure at 0x28b556156a0>"
      ]
     },
     "metadata": {},
     "output_type": "display_data"
    }
   ],
   "source": [
    "var = 'PowerOfTheEngine'\n",
    "data = pd.concat([train['GearBoxType'].dropna(), train[var].dropna()],axis=1)\n",
    "f, ax = plt.subplots(figsize=(8,6))\n",
    "fig = sns.boxplot(x='GearBoxType', y=var,hue=train['TypeOfTheFuelUsed'],data=data)\n",
    "fig.axis(ymin=1.5, ymax=2500)"
   ]
  },
  {
   "cell_type": "markdown",
   "metadata": {},
   "source": [
    "# petrol cars with automatic gear box has more performance than the other types**"
   ]
  },
  {
   "cell_type": "markdown",
   "metadata": {},
   "source": [
    "# correlation"
   ]
  },
  {
   "cell_type": "code",
   "execution_count": 500,
   "metadata": {},
   "outputs": [],
   "source": [
    "cate_Attri = train.select_dtypes(include=['category']).columns\n",
    "nume_Attri = train.select_dtypes(exclude=['category']).columns"
   ]
  },
  {
   "cell_type": "code",
   "execution_count": 501,
   "metadata": {},
   "outputs": [],
   "source": [
    "corr_matrix = train.corr().abs()\n",
    "# Select upper triangle of correlation matrix\n",
    "upper = corr_matrix.where(np.triu(np.ones(corr_matrix.shape), k=1).astype(np.bool))\n",
    "# Find index of feature columns with correlation greater than 0.95\n",
    "to_drop = [column for column in upper.columns if any(upper[column] > 0.99)]\n",
    "train.drop(axis=1,columns=to_drop,inplace=True)\n"
   ]
  },
  {
   "cell_type": "code",
   "execution_count": 502,
   "metadata": {},
   "outputs": [],
   "source": [
    "# any columns are not highly correlated"
   ]
  },
  {
   "cell_type": "code",
   "execution_count": 503,
   "metadata": {},
   "outputs": [],
   "source": [
    "cate_Attri1 = test.select_dtypes(include=['category']).columns\n",
    "nume_Attri1 = test.select_dtypes(exclude=['category']).columns\n",
    "\n",
    "corr_matrix = test.corr().abs()\n",
    "# Select upper triangle of correlation matrix\n",
    "upper = corr_matrix.where(np.triu(np.ones(corr_matrix.shape), k=1).astype(np.bool))\n",
    "# Find index of feature columns with correlation greater than 0.95\n",
    "to_drop = [column for column in upper.columns if any(upper[column] > 0.99)]\n",
    "test.drop(axis=1,columns=to_drop,inplace=True)\n"
   ]
  },
  {
   "cell_type": "code",
   "execution_count": 504,
   "metadata": {},
   "outputs": [
    {
     "name": "stdout",
     "output_type": "stream",
     "text": [
      "NameOfTheVehicle              category\n",
      "VehicleType                   category\n",
      "GearBoxType                   category\n",
      "PowerOfTheEngine                 int64\n",
      "ModelOfTheVehicle             category\n",
      "DistranceTravelled               int64\n",
      "MonthOfVehicleRegistration    category\n",
      "TypeOfTheFuelUsed             category\n",
      "BrandOfTheVehicle             category\n",
      "IsDamageRepaired              category\n",
      "ZipCode                          int64\n",
      "vehicle_age_years                int64\n",
      "Ad_days                          int64\n",
      "dtype: object\n",
      "__________________________\n",
      "NameOfTheVehicle              category\n",
      "VehicleType                   category\n",
      "GearBoxType                   category\n",
      "PowerOfTheEngine                 int64\n",
      "ModelOfTheVehicle             category\n",
      "DistranceTravelled               int64\n",
      "MonthOfVehicleRegistration    category\n",
      "TypeOfTheFuelUsed             category\n",
      "BrandOfTheVehicle             category\n",
      "IsDamageRepaired              category\n",
      "ZipCode                          int64\n",
      "vehicle_age_years                int64\n",
      "Ad_days                          int64\n",
      "log_Price                      float64\n",
      "dtype: object\n"
     ]
    }
   ],
   "source": [
    "print(test.dtypes)\n",
    "print('__________________________')\n",
    "print(train.dtypes)"
   ]
  },
  {
   "cell_type": "code",
   "execution_count": 505,
   "metadata": {},
   "outputs": [],
   "source": [
    "train.drop(['BrandOfTheVehicle','ModelOfTheVehicle','NameOfTheVehicle'],axis=1,inplace=True)\n",
    "test.drop(['BrandOfTheVehicle','ModelOfTheVehicle','NameOfTheVehicle'],axis=1,inplace=True)"
   ]
  },
  {
   "cell_type": "markdown",
   "metadata": {},
   "source": [
    "# Splitting the data"
   ]
  },
  {
   "cell_type": "code",
   "execution_count": 506,
   "metadata": {},
   "outputs": [
    {
     "data": {
      "text/plain": [
       "((41199, 10), (17658, 10))"
      ]
     },
     "execution_count": 506,
     "metadata": {},
     "output_type": "execute_result"
    }
   ],
   "source": [
    "from sklearn.model_selection import train_test_split\n",
    "y_train = train['log_Price']\n",
    "X_train = train.drop('log_Price',axis=1)\n",
    "\n",
    "\n",
    "X_train, X_val, y_train, y_val = train_test_split(X_train,y_train, test_size=0.3, random_state=123)\n",
    "X_train.shape, X_val.shape"
   ]
  },
  {
   "cell_type": "code",
   "execution_count": null,
   "metadata": {},
   "outputs": [],
   "source": []
  },
  {
   "cell_type": "markdown",
   "metadata": {},
   "source": [
    "# imputing the missing values"
   ]
  },
  {
   "cell_type": "code",
   "execution_count": 507,
   "metadata": {},
   "outputs": [],
   "source": [
    "X_train['VehicleType'].fillna(X_train['VehicleType'].mode()[0],inplace=True)\n",
    "X_val['VehicleType'].fillna(X_val['VehicleType'].mode()[0],inplace=True)\n",
    "test['VehicleType'].fillna(test['VehicleType'].mode()[0],inplace=True)"
   ]
  },
  {
   "cell_type": "code",
   "execution_count": 508,
   "metadata": {},
   "outputs": [],
   "source": [
    "X_train['GearBoxType'].fillna(X_train['GearBoxType'].mode()[0],inplace=True)\n",
    "X_val['GearBoxType'].fillna(X_val['GearBoxType'].mode()[0],inplace=True)\n",
    "test['GearBoxType'].fillna(test['GearBoxType'].mode()[0],inplace=True)"
   ]
  },
  {
   "cell_type": "code",
   "execution_count": 509,
   "metadata": {},
   "outputs": [],
   "source": [
    "X_train['TypeOfTheFuelUsed'].fillna(X_train['TypeOfTheFuelUsed'].mode()[0],inplace=True)\n",
    "X_val['TypeOfTheFuelUsed'].fillna(X_val['TypeOfTheFuelUsed'].mode()[0],inplace=True)\n",
    "test['TypeOfTheFuelUsed'].fillna(test['TypeOfTheFuelUsed'].mode()[0],inplace=True)"
   ]
  },
  {
   "cell_type": "code",
   "execution_count": 510,
   "metadata": {},
   "outputs": [],
   "source": [
    "X_train['IsDamageRepaired'].fillna(X_train['IsDamageRepaired'].mode()[0],inplace=True)\n",
    "X_val['IsDamageRepaired'].fillna(X_val['IsDamageRepaired'].mode()[0],inplace=True)\n",
    "test['IsDamageRepaired'].fillna(test['IsDamageRepaired'].mode()[0],inplace=True)"
   ]
  },
  {
   "cell_type": "markdown",
   "metadata": {},
   "source": [
    "# dummifying the categorical variables"
   ]
  },
  {
   "cell_type": "code",
   "execution_count": 511,
   "metadata": {},
   "outputs": [],
   "source": [
    "X_train = pd.get_dummies(X_train,drop_first=True)\n",
    "X_val = pd.get_dummies(X_val,drop_first=True)\n",
    "test = pd.get_dummies(test,drop_first=True)\n"
   ]
  },
  {
   "cell_type": "markdown",
   "metadata": {},
   "source": [
    "# Standardizing the data"
   ]
  },
  {
   "cell_type": "code",
   "execution_count": 512,
   "metadata": {},
   "outputs": [
    {
     "name": "stderr",
     "output_type": "stream",
     "text": [
      "C:\\Users\\vedavyas udutha\\Anaconda3\\lib\\site-packages\\sklearn\\preprocessing\\data.py:625: DataConversionWarning: Data with input dtype uint8, int64 were all converted to float64 by StandardScaler.\n",
      "  return self.partial_fit(X, y)\n",
      "C:\\Users\\vedavyas udutha\\Anaconda3\\lib\\site-packages\\ipykernel_launcher.py:5: DataConversionWarning: Data with input dtype uint8, int64 were all converted to float64 by StandardScaler.\n",
      "  \"\"\"\n",
      "C:\\Users\\vedavyas udutha\\Anaconda3\\lib\\site-packages\\ipykernel_launcher.py:6: DataConversionWarning: Data with input dtype uint8, int64 were all converted to float64 by StandardScaler.\n",
      "  \n",
      "C:\\Users\\vedavyas udutha\\Anaconda3\\lib\\site-packages\\ipykernel_launcher.py:7: DataConversionWarning: Data with input dtype uint8, int64 were all converted to float64 by StandardScaler.\n",
      "  import sys\n"
     ]
    }
   ],
   "source": [
    "from sklearn.preprocessing import StandardScaler\n",
    "scaler = StandardScaler()\n",
    "scaler.fit(X_train.iloc[:,:])\n",
    "\n",
    "X_train.iloc[:,:] = scaler.transform(X_train.iloc[:,:])\n",
    "X_val.iloc[:,:] = scaler.transform(X_val.iloc[:,:])\n",
    "test.iloc[:,:] = scaler.transform(test.iloc[:,:])"
   ]
  },
  {
   "cell_type": "code",
   "execution_count": 513,
   "metadata": {},
   "outputs": [
    {
     "data": {
      "text/plain": [
       "(19594, 31)"
      ]
     },
     "execution_count": 513,
     "metadata": {},
     "output_type": "execute_result"
    }
   ],
   "source": [
    "test.shape"
   ]
  },
  {
   "cell_type": "markdown",
   "metadata": {},
   "source": [
    "# MOdel building"
   ]
  },
  {
   "cell_type": "markdown",
   "metadata": {},
   "source": [
    "# Linear Regression"
   ]
  },
  {
   "cell_type": "code",
   "execution_count": 514,
   "metadata": {},
   "outputs": [
    {
     "name": "stdout",
     "output_type": "stream",
     "text": [
      "Linear Regression MSE on val: 0.3649\n",
      "Linear Regression RMSE on val: 0.6041\n"
     ]
    }
   ],
   "source": [
    "from sklearn import linear_model\n",
    "linear = linear_model.LinearRegression()\n",
    "linear.fit(X_train, y_train)\n",
    "\n",
    "preds_val_lr = linear.predict(X_val)\n",
    "#preds_test_lr = linear.predict(X_test)\n",
    "\n",
    "lr_mse_val = mean_squared_error(preds_val_lr, y_val)\n",
    "lr_rmse_val = np.sqrt(lr_mse_val)\n",
    "print(\"Linear Regression MSE on val: %.4f\" %lr_mse_val)\n",
    "print('Linear Regression RMSE on val: %.4f' % lr_rmse_val)"
   ]
  },
  {
   "cell_type": "markdown",
   "metadata": {},
   "source": [
    "# Decision Tree"
   ]
  },
  {
   "cell_type": "code",
   "execution_count": 515,
   "metadata": {},
   "outputs": [
    {
     "name": "stdout",
     "output_type": "stream",
     "text": [
      "Decision Tree Regressor MSE on val: 0.2142\n",
      "Decision Tree Regressor RMSE on val: 0.4629\n"
     ]
    }
   ],
   "source": [
    "from sklearn.metrics import mean_squared_error\n",
    "from sklearn.tree import export_graphviz,DecisionTreeRegressor\n",
    "DTR = DecisionTreeRegressor(random_state=42)\n",
    "DTR.fit(X_train, y_train)\n",
    "\n",
    "preds_val_DT = DTR.predict(X_val)\n",
    "#preds_test_DT = DTR.predict(X_test)\n",
    "\n",
    "DT_mse_val = mean_squared_error(preds_val_DT, y_val)\n",
    "DT_rmse_val = np.sqrt(DT_mse_val)\n",
    "\n",
    "print(\"Decision Tree Regressor MSE on val: %.4f\" %DT_mse_val)\n",
    "print('Decision Tree Regressor RMSE on val: %.4f' % DT_rmse_val)"
   ]
  },
  {
   "cell_type": "markdown",
   "metadata": {},
   "source": [
    "# RandomForest"
   ]
  },
  {
   "cell_type": "code",
   "execution_count": 516,
   "metadata": {},
   "outputs": [
    {
     "name": "stdout",
     "output_type": "stream",
     "text": [
      "Random Forest Regressor MSE on val: 0.1208\n",
      "Random Forest Regressor RMSE on val: 0.3475\n"
     ]
    }
   ],
   "source": [
    "from sklearn.ensemble import RandomForestRegressor\n",
    "RFR = RandomForestRegressor(n_estimators=120,max_depth=10,min_samples_split=5,random_state=42)\n",
    "RFR.fit(X_train, y_train)\n",
    "preds_val_RF = RFR.predict(X_val)\n",
    "#preds_test_RF = RFR.predict(X_test)\n",
    "\n",
    "RF_mse_val = mean_squared_error(preds_val_RF, y_val)\n",
    "RF_rmse_val = np.sqrt(RF_mse_val)\n",
    "\n",
    "print(\"Random Forest Regressor MSE on val: %.4f\" %RF_mse_val)\n",
    "print('Random Forest Regressor RMSE on val: %.4f' % RF_rmse_val)"
   ]
  },
  {
   "cell_type": "markdown",
   "metadata": {},
   "source": [
    "# XGboost"
   ]
  },
  {
   "cell_type": "code",
   "execution_count": 517,
   "metadata": {},
   "outputs": [
    {
     "name": "stdout",
     "output_type": "stream",
     "text": [
      "XGB Regressor MSE on val: 0.0997\n",
      "XGB Regressor RMSE on val: 0.3158\n"
     ]
    }
   ],
   "source": [
    "from xgboost import XGBRegressor\n",
    "XGB = XGBRegressor(colsample_bytree=0.6, max_depth = 10,n_estimators = 200,random_state=0,alpha=0.1)\n",
    "XGB.fit(X_train, y_train)\n",
    "\n",
    "preds_val_XG = XGB.predict(X_val)\n",
    "preds_test_XG = XGB.predict(test)\n",
    "\n",
    "XG_mse_val = mean_squared_error(preds_val_XG, y_val)\n",
    "XG_rmse_val = np.sqrt(XG_mse_val)\n",
    "\n",
    "print(\"XGB Regressor MSE on val: %.4f\" %XG_mse_val)\n",
    "print('XGB Regressor RMSE on val: %.4f' % XG_rmse_val)"
   ]
  },
  {
   "cell_type": "markdown",
   "metadata": {},
   "source": [
    "# Adaboost Regressor"
   ]
  },
  {
   "cell_type": "code",
   "execution_count": 518,
   "metadata": {},
   "outputs": [
    {
     "name": "stdout",
     "output_type": "stream",
     "text": [
      "AdaboostRegressor MSE on val: 0.2379\n",
      "AdaboostRegressor RMSE on val: 0.4877\n"
     ]
    }
   ],
   "source": [
    "from sklearn.ensemble import AdaBoostRegressor\n",
    "\n",
    "Ada = AdaBoostRegressor()\n",
    "Ada.fit(X_train, y_train)\n",
    "\n",
    "preds_val_Ada = Ada.predict(X_val)\n",
    "#preds_test_Ada = Ada.predict(X_test)\n",
    "\n",
    "Ada_mse_val = mean_squared_error(preds_val_Ada, y_val)\n",
    "Ada_rmse_val = np.sqrt(Ada_mse_val)\n",
    "print(\"AdaboostRegressor MSE on val: %.4f\" %Ada_mse_val)\n",
    "print('AdaboostRegressor RMSE on val: %.4f' % Ada_rmse_val)"
   ]
  },
  {
   "cell_type": "code",
   "execution_count": null,
   "metadata": {},
   "outputs": [],
   "source": []
  },
  {
   "cell_type": "markdown",
   "metadata": {},
   "source": [
    "# Sample Submission"
   ]
  },
  {
   "cell_type": "code",
   "execution_count": 519,
   "metadata": {},
   "outputs": [],
   "source": [
    "submission = pd.DataFrame()\n",
    "submission['Id'] = test_Id"
   ]
  },
  {
   "cell_type": "code",
   "execution_count": 520,
   "metadata": {},
   "outputs": [],
   "source": [
    "# Transform the Predicitons to correct form\n",
    "final_predictions = np.exp(preds_test_XG)"
   ]
  },
  {
   "cell_type": "code",
   "execution_count": 521,
   "metadata": {},
   "outputs": [
    {
     "data": {
      "text/html": [
       "<div>\n",
       "<style scoped>\n",
       "    .dataframe tbody tr th:only-of-type {\n",
       "        vertical-align: middle;\n",
       "    }\n",
       "\n",
       "    .dataframe tbody tr th {\n",
       "        vertical-align: top;\n",
       "    }\n",
       "\n",
       "    .dataframe thead th {\n",
       "        text-align: right;\n",
       "    }\n",
       "</style>\n",
       "<table border=\"1\" class=\"dataframe\">\n",
       "  <thead>\n",
       "    <tr style=\"text-align: right;\">\n",
       "      <th></th>\n",
       "      <th>Id</th>\n",
       "      <th>Price</th>\n",
       "    </tr>\n",
       "  </thead>\n",
       "  <tbody>\n",
       "    <tr>\n",
       "      <th>0</th>\n",
       "      <td>60001</td>\n",
       "      <td>8119.684570</td>\n",
       "    </tr>\n",
       "    <tr>\n",
       "      <th>1</th>\n",
       "      <td>60002</td>\n",
       "      <td>3504.831299</td>\n",
       "    </tr>\n",
       "    <tr>\n",
       "      <th>2</th>\n",
       "      <td>60003</td>\n",
       "      <td>22396.109375</td>\n",
       "    </tr>\n",
       "    <tr>\n",
       "      <th>3</th>\n",
       "      <td>60004</td>\n",
       "      <td>6423.480957</td>\n",
       "    </tr>\n",
       "    <tr>\n",
       "      <th>4</th>\n",
       "      <td>60005</td>\n",
       "      <td>2242.975342</td>\n",
       "    </tr>\n",
       "  </tbody>\n",
       "</table>\n",
       "</div>"
      ],
      "text/plain": [
       "      Id         Price\n",
       "0  60001   8119.684570\n",
       "1  60002   3504.831299\n",
       "2  60003  22396.109375\n",
       "3  60004   6423.480957\n",
       "4  60005   2242.975342"
      ]
     },
     "execution_count": 521,
     "metadata": {},
     "output_type": "execute_result"
    }
   ],
   "source": [
    "submission['Price'] = final_predictions\n",
    "submission.head()"
   ]
  },
  {
   "cell_type": "code",
   "execution_count": 522,
   "metadata": {},
   "outputs": [],
   "source": [
    "submission.to_csv('sample_submission5.csv', index=False)"
   ]
  },
  {
   "cell_type": "markdown",
   "metadata": {},
   "source": [
    "# The best model is XGBoost"
   ]
  },
  {
   "cell_type": "code",
   "execution_count": null,
   "metadata": {},
   "outputs": [],
   "source": []
  }
 ],
 "metadata": {
  "kernelspec": {
   "display_name": "Python 3",
   "language": "python",
   "name": "python3"
  },
  "language_info": {
   "codemirror_mode": {
    "name": "ipython",
    "version": 3
   },
   "file_extension": ".py",
   "mimetype": "text/x-python",
   "name": "python",
   "nbconvert_exporter": "python",
   "pygments_lexer": "ipython3",
   "version": "3.7.4"
  }
 },
 "nbformat": 4,
 "nbformat_minor": 2
}
